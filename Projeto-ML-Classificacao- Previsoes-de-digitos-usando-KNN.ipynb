{
 "cells": [
  {
   "cell_type": "markdown",
   "id": "cb386d79",
   "metadata": {},
   "source": [
    "## Projeto-ML-Classificacao- Previsoes-de-digitos-usando-KNN"
   ]
  },
  {
   "cell_type": "code",
   "execution_count": null,
   "id": "35d420df",
   "metadata": {},
   "outputs": [],
   "source": [
    "Faremos previsões de dígitos escritos a mão no dataset mnist. modelo terá que pre"
   ]
  }
 ],
 "metadata": {
  "kernelspec": {
   "display_name": "Python 3 (ipykernel)",
   "language": "python",
   "name": "python3"
  },
  "language_info": {
   "codemirror_mode": {
    "name": "ipython",
    "version": 3
   },
   "file_extension": ".py",
   "mimetype": "text/x-python",
   "name": "python",
   "nbconvert_exporter": "python",
   "pygments_lexer": "ipython3",
   "version": "3.9.7"
  }
 },
 "nbformat": 4,
 "nbformat_minor": 5
}
