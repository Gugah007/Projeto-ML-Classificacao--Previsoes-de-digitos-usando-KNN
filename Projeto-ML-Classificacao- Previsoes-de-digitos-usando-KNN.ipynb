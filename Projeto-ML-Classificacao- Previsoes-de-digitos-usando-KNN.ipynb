{
 "cells": [
  {
   "cell_type": "markdown",
   "id": "98d21f68",
   "metadata": {},
   "source": [
    "## Projeto-ML-Classificacao- Previsoes-de-digitos-usando-KNN"
   ]
  },
  {
   "cell_type": "markdown",
   "id": "94d0d925",
   "metadata": {},
   "source": [
    "Faremos previsões de dígitos escritos a mão no dataset mnist. modelo terá que prever uma entre 10 saídas possíveis\n",
    "para cada registro (dígitos de 0 a 10)"
   ]
  },
  {
   "cell_type": "code",
   "execution_count": 4,
   "id": "b47785ba",
   "metadata": {},
   "outputs": [],
   "source": [
    "# Carregando os pacotes\n",
    "import numpy as np\n",
    "from sklearn.datasets import load_digits\n",
    "from sklearn.metrics import confusion_matrix\n",
    "from sklearn.model_selection import train_test_split\n",
    "from sklearn.neighbors import KNeighborsClassifier\n",
    "from sklearn.metrics import classification_report\n",
    "import matplotlib.pyplot as plt\n",
    "import warnings\n",
    "warnings.filterwarnings('ignore')"
   ]
  },
  {
   "cell_type": "code",
   "execution_count": 6,
   "id": "1af17e71",
   "metadata": {},
   "outputs": [],
   "source": [
    "# Carregando o dataset\n",
    "digitos = load_digits()"
   ]
  },
  {
   "cell_type": "code",
   "execution_count": 8,
   "id": "1fb57aae",
   "metadata": {},
   "outputs": [
    {
     "data": {
      "image/png": "[encoded data removed]",
      "text/plain": [
       "<Figure size 432x288 with 4 Axes>"
      ]
     },
     "metadata": {
      "needs_background": "light"
     },
     "output_type": "display_data"
    }
   ],
   "source": [
    "# Visualizando algumas imagens e labels\n",
    "images_e_labels = list(zip(digitos.images, digitos.target))\n",
    "for index, (image, label) in enumerate(images_e_labels[:4]):\n",
    "    plt.subplot(2, 4, index + 1)\n",
    "    plt.axis('off')\n",
    "    plt.imshow(image, cmap = plt.cm.gray_r, interpolation='nearest')\n",
    "    plt.title('Label: %i' % label)"
   ]
  },
  {
   "cell_type": "code",
   "execution_count": null,
   "id": "7af4226c",
   "metadata": {},
   "outputs": [],
   "source": []
  }
 ],
 "metadata": {
  "kernelspec": {
   "display_name": "Python 3 (ipykernel)",
   "language": "python",
   "name": "python3"
  },
  "language_info": {
   "codemirror_mode": {
    "name": "ipython",
    "version": 3
   },
   "file_extension": ".py",
   "mimetype": "text/x-python",
   "name": "python",
   "nbconvert_exporter": "python",
   "pygments_lexer": "ipython3",
   "version": "3.9.7"
  }
 },
 "nbformat": 4,
 "nbformat_minor": 5
}
