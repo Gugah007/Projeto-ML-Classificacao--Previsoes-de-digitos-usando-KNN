{
 "cells": [
  {
   "cell_type": "markdown",
   "id": "b756707f",
   "metadata": {},
   "source": [
    "## Projeto-ML-Classificacao- Previsoes-de-digitos-usando-KNN"
   ]
  },
  {
   "cell_type": "markdown",
   "id": "5710452d",
   "metadata": {},
   "source": [
    "Faremos previsões de dígitos escritos a mão no dataset mnist. modelo terá que prever uma entre 10 saídas possíveis\n",
    "para cada registro (dígitos de 0 a 10)"
   ]
  },
  {
   "cell_type": "code",
   "execution_count": 4,
   "id": "9e4bbeb8",
   "metadata": {},
   "outputs": [],
   "source": [
    "# Carregando os pacotes\n",
    "import numpy as np\n",
    "from sklearn.datasets import load_digits\n",
    "from sklearn.metrics import confusion_matrix\n",
    "from sklearn.model_selection import train_test_split\n",
    "from sklearn.neighbors import KNeighborsClassifier\n",
    "from sklearn.metrics import classification_report\n",
    "import matplotlib.pyplot as plt\n",
    "import warnings\n",
    "warnings.filterwarnings('ignore')"
   ]
  },
  {
   "cell_type": "code",
   "execution_count": 6,
   "id": "a34a92c1",
   "metadata": {},
   "outputs": [],
   "source": [
    "# Carregando o dataset\n",
    "digitos = load_digits()"
   ]
  },
  {
   "cell_type": "code",
   "execution_count": 8,
   "id": "47a437a0",
   "metadata": {},
   "outputs": [
    {
     "data": {
      "image/png": "[encoded data removed]",
      "text/plain": [
       "<Figure size 432x288 with 4 Axes>"
      ]
     },
     "metadata": {
      "needs_background": "light"
     },
     "output_type": "display_data"
    }
   ],
   "source": [
    "# Visualizando algumas imagens e labels\n",
    "images_e_labels = list(zip(digitos.images, digitos.target))\n",
    "for index, (image, label) in enumerate(images_e_labels[:4]):\n",
    "    plt.subplot(2, 4, index + 1)\n",
    "    plt.axis('off')\n",
    "    plt.imshow(image, cmap = plt.cm.gray_r, interpolation='nearest')\n",
    "    plt.title('Label: %i' % label)"
   ]
  },
  {
   "cell_type": "code",
   "execution_count": 9,
   "id": "7a9a3667",
   "metadata": {},
   "outputs": [],
   "source": [
    "# Gera X e Y\n",
    "X = digitos.data\n",
    "Y = digitos.target"
   ]
  },
  {
   "cell_type": "code",
   "execution_count": 10,
   "id": "5e1f99c3",
   "metadata": {},
   "outputs": [
    {
     "data": {
      "text/plain": [
       "((1797, 64), (1797,))"
      ]
     },
     "execution_count": 10,
     "metadata": {},
     "output_type": "execute_result"
    }
   ],
   "source": [
    "# Formato do X e Y\n",
    "X.shape, Y.shape"
   ]
  },
  {
   "cell_type": "markdown",
   "id": "b1f75c57",
   "metadata": {},
   "source": [
    "### Pré-Processamento e Normalização dos dados"
   ]
  },
  {
   "cell_type": "code",
   "execution_count": 11,
   "id": "a712d851",
   "metadata": {},
   "outputs": [],
   "source": [
    "# Divisão em dados de treino e teste\n",
    "X_treino, X_teste, y_treino, y_teste = train_test_split(X,Y, test_size = 0.30, random_state = 40)"
   ]
  },
  {
   "cell_type": "code",
   "execution_count": 13,
   "id": "6df00f88",
   "metadata": {},
   "outputs": [],
   "source": [
    "# Divisão dos dados de treino em dados de treino e dados de validação\n",
    "treinoData, validData, treinoLabels, validLabels = train_test_split(X_treino,\n",
    "                                                                    y_treino,\n",
    "                                                                    test_size = 0.1,\n",
    "                                                                    random_state = 30)"
   ]
  },
  {
   "cell_type": "code",
   "execution_count": 14,
   "id": "8acc5927",
   "metadata": {},
   "outputs": [
    {
     "name": "stdout",
     "output_type": "stream",
     "text": [
      "Exemplo de Treino: 1131\n",
      "Exemplo de Validação: 126\n",
      "Exemplo de Teste: 540\n"
     ]
    }
   ],
   "source": [
    "# Imprimindo o número de exemplos em cada dataset\n",
    "print(\"Exemplo de Treino: {}\".format(len(treinoLabels)))\n",
    "print(\"Exemplo de Validação: {}\".format(len(validLabels)))\n",
    "print(\"Exemplo de Teste: {}\".format(len(y_teste)))"
   ]
  }
 ],
 "metadata": {
  "kernelspec": {
   "display_name": "Python 3 (ipykernel)",
   "language": "python",
   "name": "python3"
  },
  "language_info": {
   "codemirror_mode": {
    "name": "ipython",
    "version": 3
   },
   "file_extension": ".py",
   "mimetype": "text/x-python",
   "name": "python",
   "nbconvert_exporter": "python",
   "pygments_lexer": "ipython3",
   "version": "3.9.7"
  }
 },
 "nbformat": 4,
 "nbformat_minor": 5
}
