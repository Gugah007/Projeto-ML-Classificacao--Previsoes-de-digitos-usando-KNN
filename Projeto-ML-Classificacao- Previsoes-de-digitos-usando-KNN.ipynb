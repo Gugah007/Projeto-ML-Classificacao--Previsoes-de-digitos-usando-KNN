{
 "cells": [
  {
   "cell_type": "markdown",
   "id": "051023da",
   "metadata": {},
   "source": [
    "## Projeto-ML-Classificacao- Previsoes-de-digitos-usando-KNN"
   ]
  },
  {
   "cell_type": "markdown",
   "id": "e8592250",
   "metadata": {},
   "source": [
    "Faremos previsões de dígitos escritos a mão no dataset mnist. modelo terá que prever uma entre 10 saídas possíveis\n",
    "para cada registro (dígitos de 0 a 10)"
   ]
  },
  {
   "cell_type": "code",
   "execution_count": 4,
   "id": "97938fa2",
   "metadata": {},
   "outputs": [],
   "source": [
    "# Carregando os pacotes\n",
    "import numpy as np\n",
    "from sklearn.datasets import load_digits\n",
    "from sklearn.metrics import confusion_matrix\n",
    "from sklearn.model_selection import train_test_split\n",
    "from sklearn.neighbors import KNeighborsClassifier\n",
    "from sklearn.metrics import classification_report\n",
    "import matplotlib.pyplot as plt\n",
    "import warnings\n",
    "warnings.filterwarnings('ignore')"
   ]
  },
  {
   "cell_type": "code",
   "execution_count": 6,
   "id": "e0f23ef1",
   "metadata": {},
   "outputs": [],
   "source": [
    "# Carregando o dataset\n",
    "digitos = load_digits()"
   ]
  },
  {
   "cell_type": "code",
   "execution_count": 8,
   "id": "56941ef0",
   "metadata": {},
   "outputs": [
    {
     "data": {
      "image/png": "[encoded data removed]",
      "text/plain": [
       "<Figure size 432x288 with 4 Axes>"
      ]
     },
     "metadata": {
      "needs_background": "light"
     },
     "output_type": "display_data"
    }
   ],
   "source": [
    "# Visualizando algumas imagens e labels\n",
    "images_e_labels = list(zip(digitos.images, digitos.target))\n",
    "for index, (image, label) in enumerate(images_e_labels[:4]):\n",
    "    plt.subplot(2, 4, index + 1)\n",
    "    plt.axis('off')\n",
    "    plt.imshow(image, cmap = plt.cm.gray_r, interpolation='nearest')\n",
    "    plt.title('Label: %i' % label)"
   ]
  },
  {
   "cell_type": "code",
   "execution_count": 9,
   "id": "9a867feb",
   "metadata": {},
   "outputs": [],
   "source": [
    "# Gera X e Y\n",
    "X = digitos.data\n",
    "Y = digitos.target"
   ]
  },
  {
   "cell_type": "code",
   "execution_count": 10,
   "id": "eb00f7a3",
   "metadata": {},
   "outputs": [
    {
     "data": {
      "text/plain": [
       "((1797, 64), (1797,))"
      ]
     },
     "execution_count": 10,
     "metadata": {},
     "output_type": "execute_result"
    }
   ],
   "source": [
    "# Formato do X e Y\n",
    "X.shape, Y.shape"
   ]
  },
  {
   "cell_type": "markdown",
   "id": "10c43a3a",
   "metadata": {},
   "source": [
    "### Pré-Processamento e Normalização dos dados"
   ]
  },
  {
   "cell_type": "code",
   "execution_count": 11,
   "id": "9f37b549",
   "metadata": {},
   "outputs": [],
   "source": [
    "# Divisão em dados de treino e teste\n",
    "X_treino, X_teste, y_treino, y_teste = train_test_split(X,Y, test_size = 0.30, random_state = 40)"
   ]
  },
  {
   "cell_type": "code",
   "execution_count": 13,
   "id": "1555043d",
   "metadata": {},
   "outputs": [],
   "source": [
    "# Divisão dos dados de treino em dados de treino e dados de validação\n",
    "treinoData, validData, treinoLabels, validLabels = train_test_split(X_treino,\n",
    "                                                                    y_treino,\n",
    "                                                                    test_size = 0.1,\n",
    "                                                                    random_state = 30)"
   ]
  },
  {
   "cell_type": "code",
   "execution_count": 14,
   "id": "60881578",
   "metadata": {},
   "outputs": [
    {
     "name": "stdout",
     "output_type": "stream",
     "text": [
      "Exemplo de Treino: 1131\n",
      "Exemplo de Validação: 126\n",
      "Exemplo de Teste: 540\n"
     ]
    }
   ],
   "source": [
    "# Imprimindo o número de exemplos em cada dataset\n",
    "print(\"Exemplo de Treino: {}\".format(len(treinoLabels)))\n",
    "print(\"Exemplo de Validação: {}\".format(len(validLabels)))\n",
    "print(\"Exemplo de Teste: {}\".format(len(y_teste)))"
   ]
  },
  {
   "cell_type": "code",
   "execution_count": 16,
   "id": "acb1d2a4",
   "metadata": {},
   "outputs": [],
   "source": [
    "# Normalizando os dados pela média\n",
    "X_norm = np.mean(X, axis = 0)\n",
    "\n",
    "# Normalizando os dados de treino e teste\n",
    "X_treino_norm = treinoData - X_norm\n",
    "X_valid_norm = validData - X_norm\n",
    "X_teste_norm = X_teste - X_norm"
   ]
  },
  {
   "cell_type": "code",
   "execution_count": 17,
   "id": "049334a7",
   "metadata": {},
   "outputs": [
    {
     "name": "stdout",
     "output_type": "stream",
     "text": [
      "(1131, 64) (126, 64) (540, 64)\n"
     ]
    }
   ],
   "source": [
    "# shape dos datasets\n",
    "print(X_treino_norm.shape, X_valid_norm.shape, X_teste_norm.shape)"
   ]
  },
  {
   "cell_type": "markdown",
   "id": "24050471",
   "metadata": {},
   "source": [
    "### Descobrindo o Melhor valor e K para nosso modelo KNN"
   ]
  },
  {
   "cell_type": "code",
   "execution_count": 31,
   "id": "24821686",
   "metadata": {},
   "outputs": [],
   "source": [
    "# Range de valores de k que iremos testar\n",
    "kvals = range(1, 25, 2)"
   ]
  },
  {
   "cell_type": "code",
   "execution_count": 32,
   "id": "a192c7e3",
   "metadata": {},
   "outputs": [],
   "source": [
    "# Lista vazia para receber as acurácia\n",
    "acuracias = []"
   ]
  },
  {
   "cell_type": "code",
   "execution_count": 33,
   "id": "88ee098f",
   "metadata": {},
   "outputs": [
    {
     "name": "stdout",
     "output_type": "stream",
     "text": [
      "Com o valor de k = 1, a acurácia é = 100%\n",
      "Com o valor de k = 3, a acurácia é = 99%\n",
      "Com o valor de k = 5, a acurácia é = 100%\n",
      "Com o valor de k = 7, a acurácia é = 99%\n",
      "Com o valor de k = 9, a acurácia é = 100%\n",
      "Com o valor de k = 11, a acurácia é = 98%\n",
      "Com o valor de k = 13, a acurácia é = 97%\n",
      "Com o valor de k = 15, a acurácia é = 96%\n",
      "Com o valor de k = 17, a acurácia é = 96%\n",
      "Com o valor de k = 19, a acurácia é = 96%\n",
      "Com o valor de k = 21, a acurácia é = 97%\n",
      "Com o valor de k = 23, a acurácia é = 96%\n"
     ]
    }
   ],
   "source": [
    "# Loop em todos os valores de k para testar cada um deles\n",
    "for k in kvals:\n",
    "    # Treinando o modelo KNN com cada valor de k\n",
    "    modeloKNN = KNeighborsClassifier(n_neighbors=k)\n",
    "    modeloKNN.fit(treinoData, treinoLabels)\n",
    "    \n",
    "    # Avaliando o modelo e atualizando a lista de acurácia\n",
    "    score = modeloKNN.score(validData, validLabels)\n",
    "    print(\"Com o valor de k = %d, a acurácia é = %.2d%%\" % (k, score * 100))\n",
    "    acuracias.append(score)"
   ]
  },
  {
   "cell_type": "code",
   "execution_count": 34,
   "id": "84a4b577",
   "metadata": {},
   "outputs": [
    {
     "name": "stdout",
     "output_type": "stream",
     "text": [
      "O valor de K = 1 alcançou a mais alta acurácia de 100.00% nos dados de validação!\n"
     ]
    }
   ],
   "source": [
    "# Obtendo o valor de K que apresentou a maior acurácia\n",
    "i = np.argmax(acuracias)\n",
    "print(\"O valor de K = %d alcançou a mais alta acurácia de %.2f%% nos dados de validação!\" % (kvals[i],\n",
    "                                                                                            acuracias[i] * 100))"
   ]
  },
  {
   "cell_type": "markdown",
   "id": "41726a7c",
   "metadata": {},
   "source": [
    "### Construção e Treinamento do Modelo KNN"
   ]
  },
  {
   "cell_type": "code",
   "execution_count": 35,
   "id": "46fc2ae0",
   "metadata": {},
   "outputs": [],
   "source": [
    "# Criando o modelo com o valor de K\n",
    "modeloFinal = KNeighborsClassifier(n_neighbors= kvals[i])"
   ]
  },
  {
   "cell_type": "code",
   "execution_count": 36,
   "id": "1c147d67",
   "metadata": {},
   "outputs": [
    {
     "data": {
      "text/plain": [
       "KNeighborsClassifier(n_neighbors=1)"
      ]
     },
     "execution_count": 36,
     "metadata": {},
     "output_type": "execute_result"
    }
   ],
   "source": [
    "# Treinamento do modelo\n",
    "modeloFinal.fit(treinoData, treinoLabels)"
   ]
  },
  {
   "cell_type": "markdown",
   "id": "39707f12",
   "metadata": {},
   "source": [
    "### Previsões com Dados de Teste e Avaliação do Modelo"
   ]
  },
  {
   "cell_type": "code",
   "execution_count": 37,
   "id": "10b8cdf6",
   "metadata": {},
   "outputs": [],
   "source": [
    "# Previsões com os dados de teste\n",
    "previsoes = modeloKNN.predict(X_teste)"
   ]
  },
  {
   "cell_type": "code",
   "execution_count": 38,
   "id": "0103f521",
   "metadata": {},
   "outputs": [
    {
     "name": "stdout",
     "output_type": "stream",
     "text": [
      "Avaliação do Modelo nos Dados de Teste\n",
      "              precision    recall  f1-score   support\n",
      "\n",
      "           0       1.00      1.00      1.00        44\n",
      "           1       0.93      0.99      0.96        68\n",
      "           2       0.96      0.96      0.96        52\n",
      "           3       0.98      0.96      0.97        55\n",
      "           4       0.98      0.98      0.98        53\n",
      "           5       0.94      0.96      0.95        47\n",
      "           6       0.97      1.00      0.98        58\n",
      "           7       0.86      1.00      0.93        50\n",
      "           8       0.92      0.81      0.86        58\n",
      "           9       0.98      0.85      0.91        55\n",
      "\n",
      "    accuracy                           0.95       540\n",
      "   macro avg       0.95      0.95      0.95       540\n",
      "weighted avg       0.95      0.95      0.95       540\n",
      "\n"
     ]
    }
   ],
   "source": [
    "# Performance do modelo nos dados de teste\n",
    "print(\"Avaliação do Modelo nos Dados de Teste\")\n",
    "print(classification_report(y_teste, previsoes))"
   ]
  },
  {
   "cell_type": "code",
   "execution_count": 39,
   "id": "b396a2cb",
   "metadata": {},
   "outputs": [
    {
     "name": "stdout",
     "output_type": "stream",
     "text": [
      "Confusion Matrix\n",
      "[[44  0  0  0  0  0  0  0  0  0]\n",
      " [ 0 67  0  0  0  0  1  0  0  0]\n",
      " [ 0  0 50  0  0  0  0  0  2  0]\n",
      " [ 0  0  0 53  0  0  0  1  1  0]\n",
      " [ 0  0  0  0 52  0  0  1  0  0]\n",
      " [ 0  0  0  0  1 45  0  0  0  1]\n",
      " [ 0  0  0  0  0  0 58  0  0  0]\n",
      " [ 0  0  0  0  0  0  0 50  0  0]\n",
      " [ 0  5  2  1  0  1  1  1 47  0]\n",
      " [ 0  0  0  0  0  2  0  5  1 47]]\n"
     ]
    }
   ],
   "source": [
    "# Confusion Matrix do Modelo Final\n",
    "print(\"Confusion Matrix\")\n",
    "print(confusion_matrix(y_teste, previsoes))"
   ]
  },
  {
   "cell_type": "code",
   "execution_count": 42,
   "id": "bb94f02b",
   "metadata": {},
   "outputs": [
    {
     "name": "stdout",
     "output_type": "stream",
     "text": [
      "Eu acredito que esse dígito seja: 5\n"
     ]
    },
    {
     "data": {
      "image/png": "[encoded data removed]",
      "text/plain": [
       "<Figure size 432x288 with 1 Axes>"
      ]
     },
     "metadata": {
      "needs_background": "light"
     },
     "output_type": "display_data"
    },
    {
     "name": "stdout",
     "output_type": "stream",
     "text": [
      "Eu acredito que esse dígito seja: 9\n"
     ]
    },
    {
     "data": {
      "image/png": "[encoded data removed]",
      "text/plain": [
       "<Figure size 432x288 with 1 Axes>"
      ]
     },
     "metadata": {
      "needs_background": "light"
     },
     "output_type": "display_data"
    },
    {
     "name": "stdout",
     "output_type": "stream",
     "text": [
      "Eu acredito que esse dígito seja: 5\n"
     ]
    },
    {
     "data": {
      "image/png": "[encoded data removed]",
      "text/plain": [
       "<Figure size 432x288 with 1 Axes>"
      ]
     },
     "metadata": {
      "needs_background": "light"
     },
     "output_type": "display_data"
    },
    {
     "name": "stdout",
     "output_type": "stream",
     "text": [
      "Eu acredito que esse dígito seja: 8\n"
     ]
    },
    {
     "data": {
      "image/png": "[encoded data removed]",
      "text/plain": [
       "<Figure size 432x288 with 1 Axes>"
      ]
     },
     "metadata": {
      "needs_background": "light"
     },
     "output_type": "display_data"
    },
    {
     "name": "stdout",
     "output_type": "stream",
     "text": [
      "Eu acredito que esse dígito seja: 6\n"
     ]
    },
    {
     "data": {
      "image/png": "[encoded data removed]",
      "text/plain": [
       "<Figure size 432x288 with 1 Axes>"
      ]
     },
     "metadata": {
      "needs_background": "light"
     },
     "output_type": "display_data"
    }
   ],
   "source": [
    "# Fazendo previsões com o modelo treinado usando dados de teste\n",
    "for i in np.random.randint(0, high=len(y_teste), size=(5,)):\n",
    "    # Obtém uma imagem e faz a previsão\n",
    "    image = X_teste[i]\n",
    "    prediction = modeloFinal.predict([image])[0]\n",
    "    \n",
    "    # Mostra as previsões\n",
    "    imgdata = np.array(image, dtype='float')\n",
    "    pixels = imgdata.reshape((8,8))\n",
    "    plt.imshow(pixels, cmap='gray')\n",
    "    plt.annotate(prediction,(3,3), bbox={'facecolor': 'white'}, fontsize=16)\n",
    "    print(\"Eu acredito que esse dígito seja: {}\".format(prediction))\n",
    "    plt.show()"
   ]
  },
  {
   "cell_type": "markdown",
   "id": "2cfe2230",
   "metadata": {},
   "source": [
    "### Previsões em novos dados com o modelo Treinado"
   ]
  },
  {
   "cell_type": "code",
   "execution_count": 43,
   "id": "7c95ca64",
   "metadata": {},
   "outputs": [],
   "source": [
    "# Definindo um novo dígito\n",
    "novoDigito = [0.,  0.,  0.,  8., 15.,  1.,  0.,  0.,  0.,  0.,  0., 12., 14.,\n",
    "              0.,  0.,  0.,  0.,  0.,  3., 16.,  7.,  0.,  0.,  0.,  0.,  0.,\n",
    "              6., 16.,  2.,  0.,  0.,  0.,  0.,  0.,  7., 16., 16., 13.,  5.,\n",
    "              0.,  0.,  0., 15., 16.,  9.,  9., 14.,  0.,  0.,  0.,  3., 14.,\n",
    "              9.,  2., 16.,  2.,  0.,  0.,  0.,  7., 15., 16., 11.,  0.]"
   ]
  },
  {
   "cell_type": "code",
   "execution_count": 44,
   "id": "ba5fcd4f",
   "metadata": {},
   "outputs": [],
   "source": [
    "# Normalizando o novo dígito\n",
    "novoDigito_norm = novoDigito - X_norm"
   ]
  },
  {
   "cell_type": "code",
   "execution_count": 45,
   "id": "2abddc41",
   "metadata": {},
   "outputs": [],
   "source": [
    "# Fazendo a previsão com o modelo treinado\n",
    "novaPrevisao = modeloFinal.predict([novoDigito_norm])"
   ]
  },
  {
   "cell_type": "code",
   "execution_count": 46,
   "id": "16b2412f",
   "metadata": {},
   "outputs": [
    {
     "name": "stdout",
     "output_type": "stream",
     "text": [
      "Eu acredito que esse dígito seja: [6]\n"
     ]
    },
    {
     "data": {
      "image/png": "[encoded data removed]",
      "text/plain": [
       "<Figure size 432x288 with 1 Axes>"
      ]
     },
     "metadata": {
      "needs_background": "light"
     },
     "output_type": "display_data"
    }
   ],
   "source": [
    "# Previsão do modelo\n",
    "imgdata = np.array(novoDigito, dtype='float')\n",
    "pixels = imgdata.reshape((8,8))\n",
    "plt.imshow(pixels, cmap='gray')\n",
    "plt.annotate(novaPrevisao,(3,3), bbox={'facecolor':'white'},fontsize=16)\n",
    "print(\"Eu acredito que esse dígito seja: {}\".format(novaPrevisao))\n",
    "plt.show()"
   ]
  },
  {
   "cell_type": "code",
   "execution_count": 47,
   "id": "56988cf0",
   "metadata": {},
   "outputs": [],
   "source": [
    "# Definindo um novo dígito\n",
    "novoDigito = [0.,  0.,  0.,  1., 11.,  9.,  0.,  0.,  0.,  0.,  0.,  7., 16.,\n",
    "              13.,  0.,  0.,  0.,  0.,  4., 14., 16.,  9.,  0.,  0.,  0., 10.,\n",
    "              16., 11., 16.,  8.,  0.,  0.,  0.,  0.,  0.,  3., 16.,  6.,  0.,\n",
    "              0.,  0.,  0.,  0.,  3., 16.,  8.,  0.,  0.,  0.,  0.,  0.,  5.,\n",
    "              16., 10.,  0.,  0.,  0.,  0.,  0.,  2., 14.,  6.,  0.,  0.]"
   ]
  },
  {
   "cell_type": "code",
   "execution_count": 48,
   "id": "c727afa4",
   "metadata": {},
   "outputs": [],
   "source": [
    "# Normalizando o novo dígito\n",
    "novoDigito_norm = novoDigito - X_norm"
   ]
  },
  {
   "cell_type": "code",
   "execution_count": 49,
   "id": "4725e779",
   "metadata": {},
   "outputs": [],
   "source": [
    "# Fazendo a previsão com o modelo treinado\n",
    "novaPrevisao = modeloFinal.predict([novoDigito_norm])"
   ]
  },
  {
   "cell_type": "code",
   "execution_count": 50,
   "id": "6d536dee",
   "metadata": {},
   "outputs": [
    {
     "name": "stdout",
     "output_type": "stream",
     "text": [
      "Eu acredito que esse dígito seja: [1]\n"
     ]
    },
    {
     "data": {
      "image/png": "[encoded data removed]",
      "text/plain": [
       "<Figure size 432x288 with 1 Axes>"
      ]
     },
     "metadata": {
      "needs_background": "light"
     },
     "output_type": "display_data"
    }
   ],
   "source": [
    "# Previsão do modelo\n",
    "imgdata = np.array(novoDigito, dtype='float')\n",
    "pixels = imgdata.reshape((8,8))\n",
    "plt.imshow(pixels, cmap='gray')\n",
    "plt.annotate(novaPrevisao,(3,3), bbox={'facecolor':'white'},fontsize=16)\n",
    "print(\"Eu acredito que esse dígito seja: {}\".format(novaPrevisao))\n",
    "plt.show()"
   ]
  }
 ],
 "metadata": {
  "kernelspec": {
   "display_name": "Python 3 (ipykernel)",
   "language": "python",
   "name": "python3"
  },
  "language_info": {
   "codemirror_mode": {
    "name": "ipython",
    "version": 3
   },
   "file_extension": ".py",
   "mimetype": "text/x-python",
   "name": "python",
   "nbconvert_exporter": "python",
   "pygments_lexer": "ipython3",
   "version": "3.9.7"
  }
 },
 "nbformat": 4,
 "nbformat_minor": 5
}
